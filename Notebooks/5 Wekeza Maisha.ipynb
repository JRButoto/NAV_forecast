{
 "cells": [
  {
   "cell_type": "code",
   "execution_count": 1,
   "metadata": {
    "ExecuteTime": {
     "end_time": "2023-09-15T06:42:40.579365Z",
     "start_time": "2023-09-15T06:42:37.558247Z"
    }
   },
   "outputs": [],
   "source": [
    "import pandas as pd\n",
    "import numpy as np\n",
    "import seaborn as sns\n",
    "import matplotlib.pyplot as plt\n",
    "from prophet import Prophet"
   ]
  },
  {
   "cell_type": "code",
   "execution_count": 2,
   "metadata": {
    "ExecuteTime": {
     "end_time": "2023-09-15T06:42:40.865433Z",
     "start_time": "2023-09-15T06:42:40.775733Z"
    }
   },
   "outputs": [
    {
     "data": {
      "text/html": [
       "<div>\n",
       "<style scoped>\n",
       "    .dataframe tbody tr th:only-of-type {\n",
       "        vertical-align: middle;\n",
       "    }\n",
       "\n",
       "    .dataframe tbody tr th {\n",
       "        vertical-align: top;\n",
       "    }\n",
       "\n",
       "    .dataframe thead th {\n",
       "        text-align: right;\n",
       "    }\n",
       "</style>\n",
       "<table border=\"1\" class=\"dataframe\">\n",
       "  <thead>\n",
       "    <tr style=\"text-align: right;\">\n",
       "      <th></th>\n",
       "      <th>NAV</th>\n",
       "      <th>Units</th>\n",
       "      <th>Sale Price/Unit</th>\n",
       "      <th>Repurchase Price/Unit</th>\n",
       "      <th>Date Valued</th>\n",
       "      <th>Scheme Name_Bond Fund</th>\n",
       "      <th>Scheme Name_Jikimu Fund</th>\n",
       "      <th>Scheme Name_Liquid Fund</th>\n",
       "      <th>Scheme Name_Umoja Fund</th>\n",
       "      <th>Scheme Name_Watoto Fund</th>\n",
       "      <th>Scheme Name_Wekeza Maisha Fund</th>\n",
       "    </tr>\n",
       "  </thead>\n",
       "  <tbody>\n",
       "    <tr>\n",
       "      <th>0</th>\n",
       "      <td>3.022917e+11</td>\n",
       "      <td>3.446718e+08</td>\n",
       "      <td>877.0422</td>\n",
       "      <td>868.2718</td>\n",
       "      <td>2022-12-30</td>\n",
       "      <td>0</td>\n",
       "      <td>0</td>\n",
       "      <td>0</td>\n",
       "      <td>1</td>\n",
       "      <td>0</td>\n",
       "      <td>0</td>\n",
       "    </tr>\n",
       "    <tr>\n",
       "      <th>1</th>\n",
       "      <td>6.658728e+09</td>\n",
       "      <td>8.978248e+06</td>\n",
       "      <td>741.6512</td>\n",
       "      <td>726.8182</td>\n",
       "      <td>2022-12-30</td>\n",
       "      <td>0</td>\n",
       "      <td>0</td>\n",
       "      <td>0</td>\n",
       "      <td>0</td>\n",
       "      <td>0</td>\n",
       "      <td>1</td>\n",
       "    </tr>\n",
       "    <tr>\n",
       "      <th>2</th>\n",
       "      <td>8.426930e+09</td>\n",
       "      <td>1.537832e+07</td>\n",
       "      <td>547.9748</td>\n",
       "      <td>542.4951</td>\n",
       "      <td>2022-12-30</td>\n",
       "      <td>0</td>\n",
       "      <td>0</td>\n",
       "      <td>0</td>\n",
       "      <td>0</td>\n",
       "      <td>1</td>\n",
       "      <td>0</td>\n",
       "    </tr>\n",
       "    <tr>\n",
       "      <th>3</th>\n",
       "      <td>1.912265e+10</td>\n",
       "      <td>1.201808e+08</td>\n",
       "      <td>159.1157</td>\n",
       "      <td>155.9333</td>\n",
       "      <td>2022-12-30</td>\n",
       "      <td>0</td>\n",
       "      <td>1</td>\n",
       "      <td>0</td>\n",
       "      <td>0</td>\n",
       "      <td>0</td>\n",
       "      <td>0</td>\n",
       "    </tr>\n",
       "    <tr>\n",
       "      <th>4</th>\n",
       "      <td>5.592721e+11</td>\n",
       "      <td>1.632829e+09</td>\n",
       "      <td>342.5173</td>\n",
       "      <td>342.5173</td>\n",
       "      <td>2022-12-30</td>\n",
       "      <td>0</td>\n",
       "      <td>0</td>\n",
       "      <td>1</td>\n",
       "      <td>0</td>\n",
       "      <td>0</td>\n",
       "      <td>0</td>\n",
       "    </tr>\n",
       "  </tbody>\n",
       "</table>\n",
       "</div>"
      ],
      "text/plain": [
       "            NAV         Units  Sale Price/Unit  Repurchase Price/Unit  \\\n",
       "0  3.022917e+11  3.446718e+08         877.0422               868.2718   \n",
       "1  6.658728e+09  8.978248e+06         741.6512               726.8182   \n",
       "2  8.426930e+09  1.537832e+07         547.9748               542.4951   \n",
       "3  1.912265e+10  1.201808e+08         159.1157               155.9333   \n",
       "4  5.592721e+11  1.632829e+09         342.5173               342.5173   \n",
       "\n",
       "  Date Valued  Scheme Name_Bond Fund  Scheme Name_Jikimu Fund  \\\n",
       "0  2022-12-30                      0                        0   \n",
       "1  2022-12-30                      0                        0   \n",
       "2  2022-12-30                      0                        0   \n",
       "3  2022-12-30                      0                        1   \n",
       "4  2022-12-30                      0                        0   \n",
       "\n",
       "   Scheme Name_Liquid Fund  Scheme Name_Umoja Fund  Scheme Name_Watoto Fund  \\\n",
       "0                        0                       1                        0   \n",
       "1                        0                       0                        0   \n",
       "2                        0                       0                        1   \n",
       "3                        0                       0                        0   \n",
       "4                        1                       0                        0   \n",
       "\n",
       "   Scheme Name_Wekeza Maisha Fund  \n",
       "0                               0  \n",
       "1                               1  \n",
       "2                               0  \n",
       "3                               0  \n",
       "4                               0  "
      ]
     },
     "execution_count": 2,
     "metadata": {},
     "output_type": "execute_result"
    }
   ],
   "source": [
    "# reading the dataset\n",
    "data = pd.read_csv('test.csv')\n",
    "# displaying the data set to get its initial view\n",
    "data.head()"
   ]
  },
  {
   "cell_type": "code",
   "execution_count": 3,
   "metadata": {
    "ExecuteTime": {
     "end_time": "2023-09-15T06:42:40.913034Z",
     "start_time": "2023-09-15T06:42:40.870261Z"
    }
   },
   "outputs": [
    {
     "name": "stderr",
     "output_type": "stream",
     "text": [
      "C:\\Users\\johnb\\AppData\\Local\\Temp\\ipykernel_5464\\427229334.py:13: SettingWithCopyWarning: \n",
      "A value is trying to be set on a copy of a slice from a DataFrame\n",
      "\n",
      "See the caveats in the documentation: https://pandas.pydata.org/pandas-docs/stable/user_guide/indexing.html#returning-a-view-versus-a-copy\n",
      "  datat.drop(columns=columns_to_drop, inplace=True)\n"
     ]
    },
    {
     "data": {
      "text/html": [
       "<div>\n",
       "<style scoped>\n",
       "    .dataframe tbody tr th:only-of-type {\n",
       "        vertical-align: middle;\n",
       "    }\n",
       "\n",
       "    .dataframe tbody tr th {\n",
       "        vertical-align: top;\n",
       "    }\n",
       "\n",
       "    .dataframe thead th {\n",
       "        text-align: right;\n",
       "    }\n",
       "</style>\n",
       "<table border=\"1\" class=\"dataframe\">\n",
       "  <thead>\n",
       "    <tr style=\"text-align: right;\">\n",
       "      <th></th>\n",
       "      <th>NAV</th>\n",
       "      <th>Units</th>\n",
       "      <th>Sale Price/Unit</th>\n",
       "      <th>Repurchase Price/Unit</th>\n",
       "      <th>Date Valued</th>\n",
       "      <th>Scheme Name_Wekeza Maisha Fund</th>\n",
       "    </tr>\n",
       "  </thead>\n",
       "  <tbody>\n",
       "    <tr>\n",
       "      <th>1</th>\n",
       "      <td>6.658728e+09</td>\n",
       "      <td>8978247.54</td>\n",
       "      <td>741.6512</td>\n",
       "      <td>726.8182</td>\n",
       "      <td>2022-12-30</td>\n",
       "      <td>1</td>\n",
       "    </tr>\n",
       "    <tr>\n",
       "      <th>7</th>\n",
       "      <td>6.640438e+09</td>\n",
       "      <td>8957835.83</td>\n",
       "      <td>741.2993</td>\n",
       "      <td>726.4733</td>\n",
       "      <td>2022-12-29</td>\n",
       "      <td>1</td>\n",
       "    </tr>\n",
       "    <tr>\n",
       "      <th>13</th>\n",
       "      <td>6.631795e+09</td>\n",
       "      <td>8948322.05</td>\n",
       "      <td>741.1216</td>\n",
       "      <td>726.2992</td>\n",
       "      <td>2022-12-28</td>\n",
       "      <td>1</td>\n",
       "    </tr>\n",
       "    <tr>\n",
       "      <th>19</th>\n",
       "      <td>6.598530e+09</td>\n",
       "      <td>8905299.56</td>\n",
       "      <td>740.9666</td>\n",
       "      <td>726.1473</td>\n",
       "      <td>2022-12-27</td>\n",
       "      <td>1</td>\n",
       "    </tr>\n",
       "    <tr>\n",
       "      <th>25</th>\n",
       "      <td>6.583067e+09</td>\n",
       "      <td>8892450.96</td>\n",
       "      <td>740.2984</td>\n",
       "      <td>725.4924</td>\n",
       "      <td>2022-12-23</td>\n",
       "      <td>1</td>\n",
       "    </tr>\n",
       "  </tbody>\n",
       "</table>\n",
       "</div>"
      ],
      "text/plain": [
       "             NAV       Units  Sale Price/Unit  Repurchase Price/Unit  \\\n",
       "1   6.658728e+09  8978247.54         741.6512               726.8182   \n",
       "7   6.640438e+09  8957835.83         741.2993               726.4733   \n",
       "13  6.631795e+09  8948322.05         741.1216               726.2992   \n",
       "19  6.598530e+09  8905299.56         740.9666               726.1473   \n",
       "25  6.583067e+09  8892450.96         740.2984               725.4924   \n",
       "\n",
       "   Date Valued  Scheme Name_Wekeza Maisha Fund  \n",
       "1   2022-12-30                               1  \n",
       "7   2022-12-29                               1  \n",
       "13  2022-12-28                               1  \n",
       "19  2022-12-27                               1  \n",
       "25  2022-12-23                               1  "
      ]
     },
     "execution_count": 3,
     "metadata": {},
     "output_type": "execute_result"
    }
   ],
   "source": [
    "# Creating a copy of the data as df for easy naming & for future use as reference\n",
    "df_copy = data.copy()\n",
    "\n",
    "# Create a new DataFrame where 'Value' column is equal to 1\n",
    "datat = data[data['Scheme Name_Wekeza Maisha Fund'] == 1]\n",
    "\n",
    "\n",
    "# List of columns to drop\n",
    "columns_to_drop = ['Scheme Name_Liquid Fund', 'Scheme Name_Bond Fund','Scheme Name_Watoto Fund','Scheme Name_Jikimu Fund',\n",
    "'Scheme Name_Umoja Fund']\n",
    "\n",
    "# Drop the specified columns\n",
    "datat.drop(columns=columns_to_drop, inplace=True)\n",
    "\n",
    "# Checking our data now to see if it has the columns we want\n",
    "datat.head()\n"
   ]
  },
  {
   "cell_type": "code",
   "execution_count": 4,
   "metadata": {
    "ExecuteTime": {
     "end_time": "2023-09-15T06:42:40.944833Z",
     "start_time": "2023-09-15T06:42:40.913034Z"
    }
   },
   "outputs": [
    {
     "name": "stderr",
     "output_type": "stream",
     "text": [
      "C:\\Users\\johnb\\AppData\\Local\\Temp\\ipykernel_5464\\3204513736.py:2: SettingWithCopyWarning: \n",
      "A value is trying to be set on a copy of a slice from a DataFrame\n",
      "\n",
      "See the caveats in the documentation: https://pandas.pydata.org/pandas-docs/stable/user_guide/indexing.html#returning-a-view-versus-a-copy\n",
      "  datat.rename(columns={'Date Valued': 'ds'}, inplace=True)\n",
      "C:\\Users\\johnb\\AppData\\Local\\Temp\\ipykernel_5464\\3204513736.py:3: SettingWithCopyWarning: \n",
      "A value is trying to be set on a copy of a slice from a DataFrame\n",
      "\n",
      "See the caveats in the documentation: https://pandas.pydata.org/pandas-docs/stable/user_guide/indexing.html#returning-a-view-versus-a-copy\n",
      "  datat.rename(columns={'Sale Price/Unit': 'y'}, inplace=True)\n"
     ]
    }
   ],
   "source": [
    "# Renaming the column to a suitable format that prophet can use\n",
    "datat.rename(columns={'Date Valued': 'ds'}, inplace=True)\n",
    "datat.rename(columns={'Sale Price/Unit': 'y'}, inplace=True)"
   ]
  },
  {
   "cell_type": "code",
   "execution_count": 5,
   "metadata": {
    "ExecuteTime": {
     "end_time": "2023-09-15T06:42:42.967522Z",
     "start_time": "2023-09-15T06:42:40.949292Z"
    }
   },
   "outputs": [
    {
     "name": "stderr",
     "output_type": "stream",
     "text": [
      "15:31:49 - cmdstanpy - INFO - Chain [1] start processing\n",
      "15:31:49 - cmdstanpy - INFO - Chain [1] done processing\n"
     ]
    },
    {
     "data": {
      "text/plain": [
       "<prophet.forecaster.Prophet at 0x17f1434a4d0>"
      ]
     },
     "execution_count": 5,
     "metadata": {},
     "output_type": "execute_result"
    }
   ],
   "source": [
    "# Create a Prophet forecasting model with the default settings:\n",
    "model = Prophet()\n",
    "# Fit the Prophet model to historical data\n",
    "model.fit(datat)\n"
   ]
  },
  {
   "cell_type": "code",
   "execution_count": 6,
   "metadata": {
    "ExecuteTime": {
     "end_time": "2023-09-15T06:42:42.998107Z",
     "start_time": "2023-09-15T06:42:42.968034Z"
    }
   },
   "outputs": [],
   "source": [
    "# Create a new DataFrame to hold future dates for forecasting\n",
    "# The 'periods' parameter specifies how far into the future you want to forecast (180 periods in this case)\n",
    "future = model.make_future_dataframe(periods=180)  # Change the number of periods as needed"
   ]
  },
  {
   "cell_type": "code",
   "execution_count": 7,
   "metadata": {
    "ExecuteTime": {
     "end_time": "2023-09-15T06:42:44.281810Z",
     "start_time": "2023-09-15T06:42:43.000929Z"
    }
   },
   "outputs": [],
   "source": [
    "# Use the fitted Prophet model to make predictions for the future dates\n",
    "forecast = model.predict(future)"
   ]
  },
  {
   "cell_type": "code",
   "execution_count": 8,
   "metadata": {},
   "outputs": [],
   "source": [
    "from sklearn.metrics import mean_absolute_error, mean_squared_error, r2_score\n"
   ]
  },
  {
   "cell_type": "code",
   "execution_count": 9,
   "metadata": {},
   "outputs": [],
   "source": [
    "# Convert start_date and end_date to the same datetime format\n",
    "start_date = pd.to_datetime('2023-01-01', format='%Y-%m-%d')\n",
    "end_date = pd.to_datetime('2023-07-01', format='%Y-%m-%d')\n",
    "\n",
    "# Use df.loc to filter based on date range\n",
    "filtered_df = forecast.loc[(forecast['ds'] >= start_date) & (forecast['ds'] <= end_date)]\n",
    "\n",
    "# Sort the DataFrame 'filtered_df' by the 'ds' column in ascending order\n",
    "filtered_df = filtered_df.sort_values(by='ds', ascending=True)\n"
   ]
  },
  {
   "cell_type": "code",
   "execution_count": 10,
   "metadata": {},
   "outputs": [
    {
     "name": "stdout",
     "output_type": "stream",
     "text": [
      "Mean Absolute Error (MAE): 6.169735887704332\n",
      "Mean Squared Error (MSE): 78.29148014963968\n",
      "Root Mean Squared Error (RMSE): 8.848247292522949\n",
      "R-squared (R2) Score: 0.634836242805642\n"
     ]
    }
   ],
   "source": [
    "# Read data from a CSV file 'Bond Fund_test_1.csv' into a DataFrame 'vz_plot'\n",
    "vz_plot=pd.read_csv('Test data/Wekeza Maisha Fund_test_1.csv')\n",
    "\n",
    "# Convert the 'date_valued' column in the 'vz_plot' DataFrame to datetime format\n",
    "vz_plot['date_valued'] = pd.to_datetime(vz_plot['date_valued'])\n",
    "\n",
    "# Sort by acsending date values\n",
    "vz_plot = vz_plot.sort_values(by='date_valued', ascending=True)\n",
    "\n",
    "# Merge two DataFrames, 'filtered_df' and 'vz_plot', using an inner join on the 'ds' and 'date_valued' columns\n",
    "# The resulting DataFrame 'merged_df' will contain columns 'ds' and 'yhat' from 'filtered_df' and 'date_valued' \n",
    "#and 'nav_per_unit' from 'vz_plot'\n",
    "merged_df = pd.merge(filtered_df[['ds', 'yhat']], vz_plot[['date_valued', 'nav_per_unit']], left_on='ds', right_on='date_valued', how='inner')\n",
    "\n",
    "# Drop the duplicate 'date_valued' column\n",
    "merged_df = merged_df.drop(columns='date_valued')\n",
    "\n",
    "# Rename columns if needed\n",
    "merged_df = merged_df.rename(columns={'yhat': 'yhat_values', 'nav_per_unit': 'nav_values'})\n",
    "\n",
    "# # Display the merged dataframe\n",
    "# merged_df\n",
    "\n",
    "\n",
    "# Assuming you have a test set with actual values\n",
    "y_test = merged_df['nav_values']\n",
    "# Replace with your actual test data\n",
    "\n",
    "# Extract the forecasted values from the Prophet forecast object\n",
    "y_pred = merged_df['yhat_values']\n",
    "\n",
    "# Calculate Mean Absolute Error (MAE)\n",
    "mae = mean_absolute_error(y_test, y_pred)\n",
    "\n",
    "# Calculate Mean Squared Error (MSE)\n",
    "mse = mean_squared_error(y_test, y_pred)\n",
    "\n",
    "# Optionally, calculate Root Mean Squared Error (RMSE)\n",
    "rmse = np.sqrt(mse)\n",
    "\n",
    "# Calculate the R2 score\n",
    "r2 = r2_score(y_test, y_pred)\n",
    "\n",
    "# Print the evaluation metrics\n",
    "print(f'Mean Absolute Error (MAE): {mae}')\n",
    "print(f'Mean Squared Error (MSE): {mse}')\n",
    "print(f'Root Mean Squared Error (RMSE): {rmse}')\n",
    "print(\"R-squared (R2) Score:\", r2)"
   ]
  },
  {
   "cell_type": "code",
   "execution_count": 12,
   "metadata": {},
   "outputs": [],
   "source": [
    "# Rename the 'yhat_values' column to 'Predicted_nav_values' and 'nav_values' column to 'Real_nav_values'\n",
    "merged_df.rename(columns={'yhat_values': 'Predicted_nav_values', 'nav_values': 'Real_nav_values'}, inplace=True)\n",
    "# Store the next 6 months predictions\n",
    "merged_df.to_csv('Next 6 months prediction for Wekeza Maisha Fund.csv', index=False)"
   ]
  },
  {
   "cell_type": "code",
   "execution_count": 13,
   "metadata": {},
   "outputs": [],
   "source": [
    "import pickle as pkl"
   ]
  },
  {
   "cell_type": "code",
   "execution_count": 14,
   "metadata": {},
   "outputs": [],
   "source": [
    "# saving the model as a pkl file\n",
    "pkl.dump(model,open('Wekeza Maisha fund predictor.pkl','wb'))\n"
   ]
  }
 ],
 "metadata": {
  "kernelspec": {
   "display_name": "Python 3 (ipykernel)",
   "language": "python",
   "name": "python3"
  },
  "language_info": {
   "codemirror_mode": {
    "name": "ipython",
    "version": 3
   },
   "file_extension": ".py",
   "mimetype": "text/x-python",
   "name": "python",
   "nbconvert_exporter": "python",
   "pygments_lexer": "ipython3",
   "version": "3.10.9"
  },
  "toc": {
   "base_numbering": 1,
   "nav_menu": {},
   "number_sections": true,
   "sideBar": true,
   "skip_h1_title": false,
   "title_cell": "Table of Contents",
   "title_sidebar": "Contents",
   "toc_cell": false,
   "toc_position": {},
   "toc_section_display": true,
   "toc_window_display": false
  },
  "varInspector": {
   "cols": {
    "lenName": 16,
    "lenType": 16,
    "lenVar": 40
   },
   "kernels_config": {
    "python": {
     "delete_cmd_postfix": "",
     "delete_cmd_prefix": "del ",
     "library": "var_list.py",
     "varRefreshCmd": "print(var_dic_list())"
    },
    "r": {
     "delete_cmd_postfix": ") ",
     "delete_cmd_prefix": "rm(",
     "library": "var_list.r",
     "varRefreshCmd": "cat(var_dic_list()) "
    }
   },
   "types_to_exclude": [
    "module",
    "function",
    "builtin_function_or_method",
    "instance",
    "_Feature"
   ],
   "window_display": false
  }
 },
 "nbformat": 4,
 "nbformat_minor": 2
}
